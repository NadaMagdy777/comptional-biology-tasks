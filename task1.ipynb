{
 "cells": [
  {
   "cell_type": "markdown",
   "id": "2bd2b2be",
   "metadata": {},
   "source": [
    "# first task\n",
    "\n",
    "## Table of Contents\n",
    "<ul>\n",
    "<li><a href=\"#re\">Reactions</a></li>\n",
    "<li><a href=\"#me\">Metabolites</a></li>\n",
    "<li><a href=\"#id\">Identify Reactions</a></li>\n",
    "<li><a href=\"#add\">Add reactions </a></li>\n",
    "<li><a href=\"#ms\">Model Summry</a></li>\n",
    "<li><a href=\"#bm\">Build Model</a></li>\n",
    "</ul>"
   ]
  },
  {
   "cell_type": "code",
   "execution_count": 1,
   "id": "f8166b8f",
   "metadata": {},
   "outputs": [],
   "source": [
    "from cobra import Model,Reaction,Metabolite"
   ]
  },
  {
   "cell_type": "code",
   "execution_count": 2,
   "id": "43e47f84",
   "metadata": {},
   "outputs": [],
   "source": [
    "import cobra"
   ]
  },
  {
   "cell_type": "code",
   "execution_count": 3,
   "id": "ad23a6d7",
   "metadata": {},
   "outputs": [],
   "source": [
    "model=Model('first_model')"
   ]
  },
  {
   "cell_type": "markdown",
   "id": "6d399e46",
   "metadata": {},
   "source": [
    "<a id='re'></a>\n",
    "## Reactions"
   ]
  },
  {
   "cell_type": "code",
   "execution_count": 4,
   "id": "e4e28af3",
   "metadata": {},
   "outputs": [],
   "source": [
    "r1=Reaction('r1')\n",
    "r1.name='r1'\n",
    "r1.lower_bound=0\n",
    "r1.upper_bound=1000"
   ]
  },
  {
   "cell_type": "code",
   "execution_count": 5,
   "id": "8f773cf5",
   "metadata": {},
   "outputs": [],
   "source": [
    "r2=Reaction('r2')\n",
    "r2.name='r2'\n",
    "r2.lower_bound=0\n",
    "r2.upper_bound=1000"
   ]
  },
  {
   "cell_type": "code",
   "execution_count": 6,
   "id": "247a2b35",
   "metadata": {},
   "outputs": [],
   "source": [
    "M=Reaction('M')\n",
    "M.name='M'\n",
    "M.lower_bound=0\n",
    "M.upper_bound=1000"
   ]
  },
  {
   "cell_type": "code",
   "execution_count": 7,
   "id": "2c961913",
   "metadata": {},
   "outputs": [],
   "source": [
    "r0=Reaction('r0')\n",
    "r0.name='r0'\n",
    "r0.lower_bound=1\n",
    "r0.upper_bound=1"
   ]
  },
  {
   "cell_type": "code",
   "execution_count": 8,
   "id": "fcdc7cac",
   "metadata": {},
   "outputs": [],
   "source": [
    "r3=Reaction('r3')\n",
    "r3.name='r3'\n",
    "r3.lower_bound=.9\n",
    "r3.upper_bound=.9"
   ]
  },
  {
   "cell_type": "code",
   "execution_count": 9,
   "id": "af42d229",
   "metadata": {},
   "outputs": [],
   "source": [
    "r4=Reaction('r4')\n",
    "r4.name='r4'\n",
    "r4.lower_bound=0\n",
    "r4.upper_bound=1000"
   ]
  },
  {
   "cell_type": "markdown",
   "id": "5f4c3949",
   "metadata": {},
   "source": [
    "<a id='me'></a>\n",
    "## Metabolite"
   ]
  },
  {
   "cell_type": "code",
   "execution_count": 10,
   "id": "db7d12d5",
   "metadata": {},
   "outputs": [],
   "source": [
    "A=Metabolite('A',compartment='c')\n",
    "B=Metabolite('B',compartment='c')\n",
    "C=Metabolite('C',compartment='c')\n",
    "ATP=Metabolite('ATP',compartment='c')"
   ]
  },
  {
   "cell_type": "markdown",
   "id": "46ac193e",
   "metadata": {},
   "source": [
    "<a id='id'></a>\n",
    "## Identify Reactions\n",
    "<ul>\n",
    "<li><a href=\"#r0\">======>A</a></li>\n",
    "<li><a href=\"#r1\">A======>B</a></li>\n",
    "<li><a href=\"#r2\">B======>C </a></li>\n",
    "<li><a href=\"#r3\">A======>ATP</a></li>\n",
    "<li><a href=\"#r4\">ATP======></a></li>\n",
    "<li><a href=\"#m\">C======></a></li>\n",
    "</ul>\n"
   ]
  },
  {
   "cell_type": "markdown",
   "id": "ef984d9d",
   "metadata": {},
   "source": [
    "<a id='r0'></a>\n",
    "## R0:  ======>A"
   ]
  },
  {
   "cell_type": "code",
   "execution_count": 11,
   "id": "41fff0bb",
   "metadata": {},
   "outputs": [],
   "source": [
    "r0.add_metabolites({A:1})"
   ]
  },
  {
   "cell_type": "markdown",
   "id": "bb4a44ac",
   "metadata": {},
   "source": [
    "<a id='r1'></a>\n",
    "## R1:  A======>B"
   ]
  },
  {
   "cell_type": "code",
   "execution_count": 12,
   "id": "4ff71417",
   "metadata": {},
   "outputs": [],
   "source": [
    "r1.add_metabolites({A:-1,B:1})"
   ]
  },
  {
   "cell_type": "markdown",
   "id": "15f1aab4",
   "metadata": {},
   "source": [
    "<a id='r2'></a>\n",
    "## R2:  B======>C"
   ]
  },
  {
   "cell_type": "code",
   "execution_count": 13,
   "id": "38a9fe8e",
   "metadata": {},
   "outputs": [],
   "source": [
    "r2.add_metabolites({B:-1,C:1})"
   ]
  },
  {
   "cell_type": "markdown",
   "id": "21d51d34",
   "metadata": {},
   "source": [
    "<a id='r3'></a>\n",
    "## R3: A======>ATP"
   ]
  },
  {
   "cell_type": "code",
   "execution_count": 14,
   "id": "10a70268",
   "metadata": {},
   "outputs": [],
   "source": [
    "r3.add_metabolites({A:-1,ATP:1})"
   ]
  },
  {
   "cell_type": "markdown",
   "id": "8a0c9e57",
   "metadata": {},
   "source": [
    "<a id='r4'></a>\n",
    "## R4: ATP======>"
   ]
  },
  {
   "cell_type": "code",
   "execution_count": 15,
   "id": "ef50f590",
   "metadata": {},
   "outputs": [],
   "source": [
    "r4.add_metabolites({ATP:-1})"
   ]
  },
  {
   "cell_type": "markdown",
   "id": "4bd5b15e",
   "metadata": {},
   "source": [
    "<a id='m'></a>\n",
    "## M: C======>"
   ]
  },
  {
   "cell_type": "code",
   "execution_count": 16,
   "id": "3f54f96c",
   "metadata": {},
   "outputs": [],
   "source": [
    "M.add_metabolites({C:-1})"
   ]
  },
  {
   "cell_type": "markdown",
   "id": "97a30d10",
   "metadata": {},
   "source": [
    "<a id='add'></a>\n",
    "## Add reactions"
   ]
  },
  {
   "cell_type": "code",
   "execution_count": 17,
   "id": "1eb2a530",
   "metadata": {},
   "outputs": [],
   "source": [
    "model.add_reactions([r0,r1,r2,r3,r4,M])"
   ]
  },
  {
   "cell_type": "code",
   "execution_count": 18,
   "id": "b65bcea6",
   "metadata": {},
   "outputs": [],
   "source": [
    "model.objective='M'"
   ]
  },
  {
   "cell_type": "code",
   "execution_count": 19,
   "id": "d28e1977",
   "metadata": {},
   "outputs": [
    {
     "data": {
      "text/html": [
       "<strong><em>Optimal</em> solution with objective value 0.100</strong><br><div>\n",
       "<style scoped>\n",
       "    .dataframe tbody tr th:only-of-type {\n",
       "        vertical-align: middle;\n",
       "    }\n",
       "\n",
       "    .dataframe tbody tr th {\n",
       "        vertical-align: top;\n",
       "    }\n",
       "\n",
       "    .dataframe thead th {\n",
       "        text-align: right;\n",
       "    }\n",
       "</style>\n",
       "<table border=\"1\" class=\"dataframe\">\n",
       "  <thead>\n",
       "    <tr style=\"text-align: right;\">\n",
       "      <th></th>\n",
       "      <th>fluxes</th>\n",
       "      <th>reduced_costs</th>\n",
       "    </tr>\n",
       "  </thead>\n",
       "  <tbody>\n",
       "    <tr>\n",
       "      <th>r0</th>\n",
       "      <td>1.0</td>\n",
       "      <td>2.0</td>\n",
       "    </tr>\n",
       "    <tr>\n",
       "      <th>r1</th>\n",
       "      <td>0.1</td>\n",
       "      <td>0.0</td>\n",
       "    </tr>\n",
       "    <tr>\n",
       "      <th>r2</th>\n",
       "      <td>0.1</td>\n",
       "      <td>0.0</td>\n",
       "    </tr>\n",
       "    <tr>\n",
       "      <th>r3</th>\n",
       "      <td>0.9</td>\n",
       "      <td>-2.0</td>\n",
       "    </tr>\n",
       "    <tr>\n",
       "      <th>r4</th>\n",
       "      <td>0.9</td>\n",
       "      <td>0.0</td>\n",
       "    </tr>\n",
       "    <tr>\n",
       "      <th>M</th>\n",
       "      <td>0.1</td>\n",
       "      <td>0.0</td>\n",
       "    </tr>\n",
       "  </tbody>\n",
       "</table>\n",
       "</div>"
      ],
      "text/plain": [
       "<Solution 0.100 at 0x2157f3c85e0>"
      ]
     },
     "execution_count": 19,
     "metadata": {},
     "output_type": "execute_result"
    }
   ],
   "source": [
    "model.optimize()"
   ]
  },
  {
   "cell_type": "markdown",
   "id": "31863956",
   "metadata": {},
   "source": [
    "<a id='ms'></a>\n",
    "## Model summary"
   ]
  },
  {
   "cell_type": "code",
   "execution_count": 20,
   "id": "31e7857d",
   "metadata": {},
   "outputs": [
    {
     "data": {
      "text/html": [
       "<h3>Objective</h3><p>1.0 M = 0.09999999999999998</p><h4>Uptake</h4><table border=\"1\" class=\"dataframe\">\n",
       "  <thead>\n",
       "    <tr style=\"text-align: right;\">\n",
       "      <th>Metabolite</th>\n",
       "      <th>Reaction</th>\n",
       "      <th>Flux</th>\n",
       "      <th>C-Number</th>\n",
       "      <th>C-Flux</th>\n",
       "    </tr>\n",
       "  </thead>\n",
       "  <tbody>\n",
       "    <tr>\n",
       "      <td>A</td>\n",
       "      <td>r0</td>\n",
       "      <td>1</td>\n",
       "      <td>0</td>\n",
       "      <td>0.00%</td>\n",
       "    </tr>\n",
       "  </tbody>\n",
       "</table><h4>Secretion</h4><table border=\"1\" class=\"dataframe\">\n",
       "  <thead>\n",
       "    <tr style=\"text-align: right;\">\n",
       "      <th>Metabolite</th>\n",
       "      <th>Reaction</th>\n",
       "      <th>Flux</th>\n",
       "      <th>C-Number</th>\n",
       "      <th>C-Flux</th>\n",
       "    </tr>\n",
       "  </thead>\n",
       "  <tbody>\n",
       "    <tr>\n",
       "      <td>C</td>\n",
       "      <td>M</td>\n",
       "      <td>-0.1</td>\n",
       "      <td>0</td>\n",
       "      <td>0.00%</td>\n",
       "    </tr>\n",
       "    <tr>\n",
       "      <td>ATP</td>\n",
       "      <td>r4</td>\n",
       "      <td>-0.9</td>\n",
       "      <td>0</td>\n",
       "      <td>0.00%</td>\n",
       "    </tr>\n",
       "  </tbody>\n",
       "</table>"
      ],
      "text/plain": [
       "<cobra.summary.model_summary.ModelSummary at 0x2157f3c8cd0>"
      ]
     },
     "execution_count": 20,
     "metadata": {},
     "output_type": "execute_result"
    }
   ],
   "source": [
    "model.summary()"
   ]
  },
  {
   "cell_type": "code",
   "execution_count": 21,
   "id": "3c855c89",
   "metadata": {},
   "outputs": [],
   "source": [
    "cobra.io.save_json_model(model,\"test.json\")"
   ]
  },
  {
   "cell_type": "code",
   "execution_count": 22,
   "id": "1d810a42",
   "metadata": {},
   "outputs": [],
   "source": [
    "import escher"
   ]
  },
  {
   "cell_type": "code",
   "execution_count": 23,
   "id": "b0a06e5b",
   "metadata": {},
   "outputs": [],
   "source": [
    "from escher import Builder"
   ]
  },
  {
   "cell_type": "code",
   "execution_count": 24,
   "id": "d0c1d0df",
   "metadata": {},
   "outputs": [
    {
     "data": {
      "text/html": [
       "\n",
       "        <table>\n",
       "            <tr>\n",
       "                <td><strong>Name</strong></td>\n",
       "                <td>first_model</td>\n",
       "            </tr><tr>\n",
       "                <td><strong>Memory address</strong></td>\n",
       "                <td>0x02157f3b95e0</td>\n",
       "            </tr><tr>\n",
       "                <td><strong>Number of metabolites</strong></td>\n",
       "                <td>4</td>\n",
       "            </tr><tr>\n",
       "                <td><strong>Number of reactions</strong></td>\n",
       "                <td>6</td>\n",
       "            </tr><tr>\n",
       "                <td><strong>Number of groups</strong></td>\n",
       "                <td>0</td>\n",
       "            </tr><tr>\n",
       "                <td><strong>Objective expression</strong></td>\n",
       "                <td>1.0*M - 1.0*M_reverse_69691</td>\n",
       "            </tr><tr>\n",
       "                <td><strong>Compartments</strong></td>\n",
       "                <td>c</td>\n",
       "            </tr>\n",
       "          </table>"
      ],
      "text/plain": [
       "<Model first_model at 0x2157f3b95e0>"
      ]
     },
     "execution_count": 24,
     "metadata": {},
     "output_type": "execute_result"
    }
   ],
   "source": [
    "cobra.io.load_json_model(\"test.json\")"
   ]
  },
  {
   "cell_type": "code",
   "execution_count": 25,
   "id": "42d81350",
   "metadata": {},
   "outputs": [],
   "source": [
    "\n",
    "builder=Builder()\n"
   ]
  },
  {
   "cell_type": "markdown",
   "id": "94d2f96e",
   "metadata": {},
   "source": [
    "<a id='bm'></a>\n",
    "## Build Model"
   ]
  },
  {
   "cell_type": "code",
   "execution_count": 26,
   "id": "7f83e465",
   "metadata": {
    "scrolled": true
   },
   "outputs": [
    {
     "data": {
      "application/vnd.jupyter.widget-view+json": {
       "model_id": "e251d54eedfb48b6898ee948730c9f94",
       "version_major": 2,
       "version_minor": 0
      },
      "text/plain": [
       "Builder()"
      ]
     },
     "metadata": {},
     "output_type": "display_data"
    }
   ],
   "source": [
    "\n",
    "\n",
    "builder\n"
   ]
  }
 ],
 "metadata": {
  "kernelspec": {
   "display_name": "Python 3",
   "language": "python",
   "name": "python3"
  },
  "language_info": {
   "codemirror_mode": {
    "name": "ipython",
    "version": 3
   },
   "file_extension": ".py",
   "mimetype": "text/x-python",
   "name": "python",
   "nbconvert_exporter": "python",
   "pygments_lexer": "ipython3",
   "version": "3.8.8"
  }
 },
 "nbformat": 4,
 "nbformat_minor": 5
}
