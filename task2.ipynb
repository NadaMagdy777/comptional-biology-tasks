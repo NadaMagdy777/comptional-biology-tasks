{
 "cells": [
  {
   "cell_type": "markdown",
   "id": "2bd2b2be",
   "metadata": {},
   "source": [
    "# second task\n",
    "\n",
    "## Table of Contents\n",
    "<ul>\n",
    "<li><a href=\"#re\">Reactions</a></li>\n",
    "<li><a href=\"#me\">Metabolites</a></li>\n",
    "<li><a href=\"#id\">Identify Reactions</a></li>\n",
    "<li><a href=\"#add\">Add reactions </a></li>\n",
    "<li><a href=\"#ms\">Model Summry</a></li>\n",
    "<li><a href=\"#bm\">Build Model</a></li>\n",
    "</ul>"
   ]
  },
  {
   "cell_type": "code",
   "execution_count": 1,
   "id": "f8166b8f",
   "metadata": {},
   "outputs": [],
   "source": [
    "from cobra import Model,Reaction,Metabolite"
   ]
  },
  {
   "cell_type": "code",
   "execution_count": 2,
   "id": "43e47f84",
   "metadata": {},
   "outputs": [],
   "source": [
    "import cobra"
   ]
  },
  {
   "cell_type": "code",
   "execution_count": 3,
   "id": "ad23a6d7",
   "metadata": {},
   "outputs": [],
   "source": [
    "model=Model('first_model')"
   ]
  },
  {
   "cell_type": "markdown",
   "id": "6d399e46",
   "metadata": {},
   "source": [
    "<a id='re'></a>\n",
    "## Reactions"
   ]
  },
  {
   "cell_type": "code",
   "execution_count": 4,
   "id": "04de80dc",
   "metadata": {},
   "outputs": [],
   "source": [
    "r0=Reaction('r0')\n",
    "r0.name='r0'\n",
    "r0.lower_bound=1\n",
    "r0.upper_bound=1"
   ]
  },
  {
   "cell_type": "code",
   "execution_count": 5,
   "id": "e4e28af3",
   "metadata": {},
   "outputs": [],
   "source": [
    "r1=Reaction('r1')\n",
    "r1.name='r1'\n",
    "r1.lower_bound=0\n",
    "r1.upper_bound=1000"
   ]
  },
  {
   "cell_type": "code",
   "execution_count": 6,
   "id": "8f773cf5",
   "metadata": {},
   "outputs": [],
   "source": [
    "r2=Reaction('r2')\n",
    "r2.name='r2'\n",
    "r2.lower_bound=0\n",
    "r2.upper_bound=1000"
   ]
  },
  {
   "cell_type": "code",
   "execution_count": 7,
   "id": "247a2b35",
   "metadata": {},
   "outputs": [],
   "source": [
    "M=Reaction('M')\n",
    "M.name='M'\n",
    "M.lower_bound=0\n",
    "M.upper_bound=1000"
   ]
  },
  {
   "cell_type": "markdown",
   "id": "5f4c3949",
   "metadata": {},
   "source": [
    "<a id='me'></a>\n",
    "## Metabolite"
   ]
  },
  {
   "cell_type": "code",
   "execution_count": 8,
   "id": "db7d12d5",
   "metadata": {},
   "outputs": [],
   "source": [
    "glc=Metabolite('glc',compartment='c')\n",
    "AA=Metabolite('AA',compartment='c')\n",
    "Biomass=Metabolite('Biomass',compartment='c')"
   ]
  },
  {
   "cell_type": "markdown",
   "id": "46ac193e",
   "metadata": {},
   "source": [
    "<a id='id'></a>\n",
    "## Identify Reactions\n",
    "<ul>\n",
    "<li><a href=\"#r0\">======>glc</a></li>\n",
    "<li><a href=\"#r1\">glc=======>AA</a></li>\n",
    "<li><a href=\"#r2\">AA=======>Biomass</a></li>\n",
    "<li><a href=\"#m\">Biomass=======></a></li>\n",
    "</ul>\n"
   ]
  },
  {
   "cell_type": "markdown",
   "id": "ef984d9d",
   "metadata": {},
   "source": [
    "<a id='r0'></a>\n",
    "## R0:  ======>glc"
   ]
  },
  {
   "cell_type": "code",
   "execution_count": 9,
   "id": "41fff0bb",
   "metadata": {},
   "outputs": [],
   "source": [
    "r0.add_metabolites({glc:1})"
   ]
  },
  {
   "cell_type": "markdown",
   "id": "bb4a44ac",
   "metadata": {},
   "source": [
    "<a id='r1'></a>\n",
    "## R1:  glc=======>AA"
   ]
  },
  {
   "cell_type": "code",
   "execution_count": 10,
   "id": "4ff71417",
   "metadata": {},
   "outputs": [],
   "source": [
    "r1.add_metabolites({glc:-1,AA:1})"
   ]
  },
  {
   "cell_type": "markdown",
   "id": "15f1aab4",
   "metadata": {},
   "source": [
    "<a id='r2'></a>\n",
    "## R2:  AA=======>Biomass"
   ]
  },
  {
   "cell_type": "code",
   "execution_count": 11,
   "id": "38a9fe8e",
   "metadata": {},
   "outputs": [],
   "source": [
    "r2.add_metabolites({AA:-9.09,Biomass:1})"
   ]
  },
  {
   "cell_type": "markdown",
   "id": "4bd5b15e",
   "metadata": {},
   "source": [
    "<a id='m'></a>\n",
    "## M: Biomass======>"
   ]
  },
  {
   "cell_type": "code",
   "execution_count": 12,
   "id": "3f54f96c",
   "metadata": {},
   "outputs": [],
   "source": [
    "M.add_metabolites({Biomass:-1})"
   ]
  },
  {
   "cell_type": "markdown",
   "id": "97a30d10",
   "metadata": {},
   "source": [
    "<a id='add'></a>\n",
    "## Add reactions"
   ]
  },
  {
   "cell_type": "code",
   "execution_count": 13,
   "id": "1eb2a530",
   "metadata": {},
   "outputs": [],
   "source": [
    "model.add_reactions([r0,r1,r2,M])"
   ]
  },
  {
   "cell_type": "code",
   "execution_count": 14,
   "id": "b65bcea6",
   "metadata": {},
   "outputs": [],
   "source": [
    "model.objective='M'"
   ]
  },
  {
   "cell_type": "code",
   "execution_count": 15,
   "id": "d28e1977",
   "metadata": {},
   "outputs": [
    {
     "data": {
      "text/html": [
       "<strong><em>Optimal</em> solution with objective value 0.110</strong><br><div>\n",
       "<style scoped>\n",
       "    .dataframe tbody tr th:only-of-type {\n",
       "        vertical-align: middle;\n",
       "    }\n",
       "\n",
       "    .dataframe tbody tr th {\n",
       "        vertical-align: top;\n",
       "    }\n",
       "\n",
       "    .dataframe thead th {\n",
       "        text-align: right;\n",
       "    }\n",
       "</style>\n",
       "<table border=\"1\" class=\"dataframe\">\n",
       "  <thead>\n",
       "    <tr style=\"text-align: right;\">\n",
       "      <th></th>\n",
       "      <th>fluxes</th>\n",
       "      <th>reduced_costs</th>\n",
       "    </tr>\n",
       "  </thead>\n",
       "  <tbody>\n",
       "    <tr>\n",
       "      <th>r0</th>\n",
       "      <td>1.000000</td>\n",
       "      <td>0.220022</td>\n",
       "    </tr>\n",
       "    <tr>\n",
       "      <th>r1</th>\n",
       "      <td>1.000000</td>\n",
       "      <td>0.000000</td>\n",
       "    </tr>\n",
       "    <tr>\n",
       "      <th>r2</th>\n",
       "      <td>0.110011</td>\n",
       "      <td>0.000000</td>\n",
       "    </tr>\n",
       "    <tr>\n",
       "      <th>M</th>\n",
       "      <td>0.110011</td>\n",
       "      <td>0.000000</td>\n",
       "    </tr>\n",
       "  </tbody>\n",
       "</table>\n",
       "</div>"
      ],
      "text/plain": [
       "<Solution 0.110 at 0x20d9cd51f10>"
      ]
     },
     "execution_count": 15,
     "metadata": {},
     "output_type": "execute_result"
    }
   ],
   "source": [
    "model.optimize()"
   ]
  },
  {
   "cell_type": "markdown",
   "id": "31863956",
   "metadata": {},
   "source": [
    "<a id='ms'></a>\n",
    "## Model summary"
   ]
  },
  {
   "cell_type": "code",
   "execution_count": 16,
   "id": "31e7857d",
   "metadata": {},
   "outputs": [
    {
     "data": {
      "text/html": [
       "<h3>Objective</h3><p>1.0 M = 0.11001100110011001</p><h4>Uptake</h4><table border=\"1\" class=\"dataframe\">\n",
       "  <thead>\n",
       "    <tr style=\"text-align: right;\">\n",
       "      <th>Metabolite</th>\n",
       "      <th>Reaction</th>\n",
       "      <th>Flux</th>\n",
       "      <th>C-Number</th>\n",
       "      <th>C-Flux</th>\n",
       "    </tr>\n",
       "  </thead>\n",
       "  <tbody>\n",
       "    <tr>\n",
       "      <td>glc</td>\n",
       "      <td>r0</td>\n",
       "      <td>1</td>\n",
       "      <td>0</td>\n",
       "      <td>0.00%</td>\n",
       "    </tr>\n",
       "  </tbody>\n",
       "</table><h4>Secretion</h4><table border=\"1\" class=\"dataframe\">\n",
       "  <thead>\n",
       "    <tr style=\"text-align: right;\">\n",
       "      <th>Metabolite</th>\n",
       "      <th>Reaction</th>\n",
       "      <th>Flux</th>\n",
       "      <th>C-Number</th>\n",
       "      <th>C-Flux</th>\n",
       "    </tr>\n",
       "  </thead>\n",
       "  <tbody>\n",
       "    <tr>\n",
       "      <td>Biomass</td>\n",
       "      <td>M</td>\n",
       "      <td>-0.11</td>\n",
       "      <td>0</td>\n",
       "      <td>0.00%</td>\n",
       "    </tr>\n",
       "  </tbody>\n",
       "</table>"
      ],
      "text/plain": [
       "<cobra.summary.model_summary.ModelSummary at 0x20d9cd83490>"
      ]
     },
     "execution_count": 16,
     "metadata": {},
     "output_type": "execute_result"
    }
   ],
   "source": [
    "model.summary()"
   ]
  },
  {
   "cell_type": "code",
   "execution_count": 17,
   "id": "3c855c89",
   "metadata": {},
   "outputs": [],
   "source": [
    "cobra.io.save_json_model(model,\"test.json\")"
   ]
  },
  {
   "cell_type": "code",
   "execution_count": 18,
   "id": "1d810a42",
   "metadata": {},
   "outputs": [],
   "source": [
    "import escher"
   ]
  },
  {
   "cell_type": "code",
   "execution_count": 19,
   "id": "b0a06e5b",
   "metadata": {},
   "outputs": [],
   "source": [
    "from escher import Builder"
   ]
  },
  {
   "cell_type": "code",
   "execution_count": 20,
   "id": "d0c1d0df",
   "metadata": {},
   "outputs": [
    {
     "data": {
      "text/html": [
       "\n",
       "        <table>\n",
       "            <tr>\n",
       "                <td><strong>Name</strong></td>\n",
       "                <td>first_model</td>\n",
       "            </tr><tr>\n",
       "                <td><strong>Memory address</strong></td>\n",
       "                <td>0x020d9d40ffd0</td>\n",
       "            </tr><tr>\n",
       "                <td><strong>Number of metabolites</strong></td>\n",
       "                <td>3</td>\n",
       "            </tr><tr>\n",
       "                <td><strong>Number of reactions</strong></td>\n",
       "                <td>4</td>\n",
       "            </tr><tr>\n",
       "                <td><strong>Number of groups</strong></td>\n",
       "                <td>0</td>\n",
       "            </tr><tr>\n",
       "                <td><strong>Objective expression</strong></td>\n",
       "                <td>1.0*M - 1.0*M_reverse_69691</td>\n",
       "            </tr><tr>\n",
       "                <td><strong>Compartments</strong></td>\n",
       "                <td>c</td>\n",
       "            </tr>\n",
       "          </table>"
      ],
      "text/plain": [
       "<Model first_model at 0x20d9d40ffd0>"
      ]
     },
     "execution_count": 20,
     "metadata": {},
     "output_type": "execute_result"
    }
   ],
   "source": [
    "cobra.io.load_json_model(\"test.json\")"
   ]
  },
  {
   "cell_type": "code",
   "execution_count": 21,
   "id": "42d81350",
   "metadata": {},
   "outputs": [],
   "source": [
    "\n",
    "builder=Builder()\n"
   ]
  },
  {
   "cell_type": "markdown",
   "id": "94d2f96e",
   "metadata": {},
   "source": [
    "<a id='bm'></a>\n",
    "## Build Model"
   ]
  },
  {
   "cell_type": "code",
   "execution_count": 22,
   "id": "7f83e465",
   "metadata": {
    "scrolled": true
   },
   "outputs": [
    {
     "data": {
      "application/vnd.jupyter.widget-view+json": {
       "model_id": "b68e2a108d2f44bf94f09dfc5afbd84b",
       "version_major": 2,
       "version_minor": 0
      },
      "text/plain": [
       "Builder()"
      ]
     },
     "metadata": {},
     "output_type": "display_data"
    }
   ],
   "source": [
    "\n",
    "\n",
    "\n",
    "builder\n"
   ]
  }
 ],
 "metadata": {
  "kernelspec": {
   "display_name": "Python 3",
   "language": "python",
   "name": "python3"
  },
  "language_info": {
   "codemirror_mode": {
    "name": "ipython",
    "version": 3
   },
   "file_extension": ".py",
   "mimetype": "text/x-python",
   "name": "python",
   "nbconvert_exporter": "python",
   "pygments_lexer": "ipython3",
   "version": "3.8.8"
  }
 },
 "nbformat": 4,
 "nbformat_minor": 5
}
